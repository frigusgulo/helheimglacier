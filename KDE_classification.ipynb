{
 "cells": [
  {
   "cell_type": "code",
   "execution_count": 11,
   "metadata": {},
   "outputs": [],
   "source": [
    "# Perform classification tests on reference vs hypothesis clusters\n",
    "\n",
    "import numpy as np\n",
    "import laspy as lp\n",
    "import numpy as np\n",
    "import scipy\n",
    "from laspy.file import File\n",
    "from scipy.spatial.ckdtree import cKDTree as KDTree\n",
    "import time as time\n",
    "import scipy.stats\n",
    "from numpy.random import (normal,uniform)\n",
    "import matplotlib.cm as cm\n",
    "import itertools\n",
    "from matplotlib.patches import Circle\n",
    "from glob import glob\n",
    "from os.path import join\n",
    "from scipy.ndimage.measurements import center_of_mass"
   ]
  },
  {
   "cell_type": "markdown",
   "metadata": {},
   "source": [
    "Doug,\n",
    "I have come up with something of an experiment that evaluates the accuracy of this approach to \"labeling\" hypothesis clusters.\n",
    "This was inspired predominately by what I have read in https://iis.uibk.ac.at/public/papers/Xiong-2013-3DV.pdf (Section 3.1-3.3)\n",
    "\n",
    " I formulated my approach as follows:\n",
    "\n",
    "Given a cluster of reference points\n",
    "and a set of test clusters:\n",
    "\n",
    "1) On a grid of \"centers\" in the UTM coordinate system, retrieve from the KD tree  a cluster of 100 points that are Nearest Neighbors to the center \n",
    "and assign a respective label to each cluster [0-99]\n",
    "\n",
    "2) Create 10 \"test\" clusters from each labeled cluster: Perturb these points with white gaussian noise and assign their true label to that of the labeled cluster\n",
    "\n",
    "3) Iterate through all the perturbed \"test\" clusters and compute the expected likelihood between them and each labeled cluster, assigning the lilihood of each labeled\n",
    "cluster to the \"testlabel\" array\n",
    "\n",
    "4) Compute accuracy by the number of times the largest computed likelihood corresponds to the true label of the cluster\n",
    "\n"
   ]
  },
  {
   "cell_type": "code",
   "execution_count": 12,
   "metadata": {},
   "outputs": [],
   "source": [
    "class scan():\n",
    "    def __init__(self,filepath):\n",
    "        start = time.time()\n",
    "        self.file = File(filepath,mode=\"r\")\n",
    "        self.scale = self.file.header.scale[0]\n",
    "        self.offset = self.file.header.offset[0]\n",
    "        self.tree = KDTree(np.vstack([self.file.x, self.file.y, self.file.z]).transpose())\n",
    "        self.time = self.file.header.get_date()\n",
    "        end = time.time() - start\n",
    "        print(\"Time Elapsed: {}\".format(end))\n",
    "\n",
    "    def NNN(self,point,k):\n",
    "        return self.tree.data[self.tree.query(point,k=k)[1]]\n",
    "    \n",
    "    def radialcluster(self,point,radius):\n",
    "        neighbor = self.tree.data[self.tree.query(point,k=1)[1]]\n",
    "        points = self.tree.data[self.tree.query_ball_point(neighbor,radius)]\n",
    "        return np.array(points)"
   ]
  },
  {
   "cell_type": "code",
   "execution_count": 20,
   "metadata": {},
   "outputs": [],
   "source": [
    "class Particleset():  \n",
    "    \n",
    "    def __init__(self,points=None,center=None,label=None,weight=None):\n",
    "        self.points = points\n",
    "        self.center = center\n",
    "        self.weight = weight\n",
    "        self.testlabel = np.zeros((1,25))\n",
    "        self.label = label\n",
    "        self.normalize()\n",
    "        self.gen_covariance()\n",
    "        \n",
    "    def normalize(self):\n",
    "        if self.center is not None:\n",
    "            self.points -= self.center\n",
    "        self.mean = np.mean(self.points)\n",
    "        \n",
    "    def set_weight(self,weight):\n",
    "        self.weight = weight\n",
    "\n",
    "    def settestlabel(self,weight,index):\n",
    "        self.testlabel[:,index] = weight\n",
    "\n",
    "    def gen_covariance(self):\n",
    "        if self.points is not None:\n",
    "            self.cov = (self.points - self.mean)**2\n",
    "    "
   ]
  },
  {
   "cell_type": "code",
   "execution_count": 14,
   "metadata": {},
   "outputs": [
    {
     "name": "stdout",
     "output_type": "stream",
     "text": [
      "Time Elapsed: 36.78922414779663\n"
     ]
    }
   ],
   "source": [
    "files = glob(join(\"/home/dunbar/Research/helheim/data/misc/lazfiles\",\"*.laz\"))\n",
    "refscan = scan(files[0])"
   ]
  },
  {
   "cell_type": "code",
   "execution_count": 30,
   "metadata": {},
   "outputs": [],
   "source": [
    "class Observer(Particleset):\n",
    "    def __init__(self,obs):\n",
    "        self.observations = obs\n",
    "        self.observations.sort(key= lambda scan: scan.time)\n",
    "        #self.particles = None\n",
    "\n",
    "    def kernel_function(self,test,ref):\n",
    "        # Evaluate the liklihood of one KDE under another\n",
    "        # ** See https://iis.uibk.ac.at/public/papers/Xiong-2013-3DV.pdf [Section 3.3] For Details **\n",
    "        mean_test = test.points\n",
    "        cov_test = test.cov\n",
    "        mean_ref = ref.points\n",
    "        cov_ref = ref.cov\n",
    "        assert mean_test.shape == mean_ref.shape\n",
    "        gamma = mean_test - mean_ref\n",
    "        sigma = cov_test + cov_ref\n",
    "        A = 1/((2*np.pi**(3/2))*(np.linalg.det(sigma)**(.5)))\n",
    "        B = np.exp((-.5)*gamma@np.linalg.inv(sigma)@gamma.T)\n",
    "        C = 1/(np.max(mean_test.shape))\n",
    "        return (C**2)*np.sum(A*B)\n",
    "\n"
   ]
  },
  {
   "cell_type": "code",
   "execution_count": 21,
   "metadata": {},
   "outputs": [],
   "source": [
    "# Step 1\n",
    "m=5\n",
    "easting = np.linspace(532653.83,532753.83,m)\n",
    "northing = np.linspace(7361772.42,7361872.42,m)\n",
    "grid = [np.array([x,y,1000]) for x in easting for y in northing]\n",
    "labeled_scans = [Particleset(points=refscan.radialcluster(point,radius=10),center=point,label=i) for i,point in enumerate(grid)] # Step 1\n"
   ]
  },
  {
   "cell_type": "code",
   "execution_count": 22,
   "metadata": {},
   "outputs": [],
   "source": [
    "def perturb_points(points):\n",
    "    n,m = points.shape\n",
    "    new = points.copy()\n",
    "    for i in range(m):\n",
    "        noise = np.random.normal(0,3,n)\n",
    "        new[:,i] += noise.T\n",
    "\n",
    "    return new"
   ]
  },
  {
   "cell_type": "code",
   "execution_count": 24,
   "metadata": {},
   "outputs": [],
   "source": [
    "# Step 2\n",
    "testscans = []\n",
    "setsize = 10\n",
    "for scan in labeled_scans:\n",
    "    points = scan.points\n",
    "    for i in range(setsize):\n",
    "        set_ = perturb_points(points)\n",
    "        testscans.append(Particleset(points=set_,label=scan.label)) # Step 2"
   ]
  },
  {
   "cell_type": "code",
   "execution_count": 31,
   "metadata": {},
   "outputs": [
    {
     "ename": "LinAlgError",
     "evalue": "1-dimensional array given. Array must be at least two-dimensional",
     "output_type": "error",
     "traceback": [
      "\u001b[0;31m---------------------------------------------------------------------------\u001b[0m",
      "\u001b[0;31mLinAlgError\u001b[0m                               Traceback (most recent call last)",
      "\u001b[0;32m<ipython-input-31-f7091d08e859>\u001b[0m in \u001b[0;36m<module>\u001b[0;34m\u001b[0m\n\u001b[1;32m      3\u001b[0m \u001b[0;32mfor\u001b[0m \u001b[0mtestscan\u001b[0m \u001b[0;32min\u001b[0m \u001b[0mtestscans\u001b[0m\u001b[0;34m:\u001b[0m\u001b[0;34m\u001b[0m\u001b[0;34m\u001b[0m\u001b[0m\n\u001b[1;32m      4\u001b[0m     \u001b[0;32mfor\u001b[0m \u001b[0mlabelscan\u001b[0m \u001b[0;32min\u001b[0m \u001b[0mlabeled_scans\u001b[0m\u001b[0;34m:\u001b[0m\u001b[0;34m\u001b[0m\u001b[0;34m\u001b[0m\u001b[0m\n\u001b[0;32m----> 5\u001b[0;31m         \u001b[0mweight\u001b[0m \u001b[0;34m=\u001b[0m \u001b[0mobserver\u001b[0m\u001b[0;34m.\u001b[0m\u001b[0mkernel_function\u001b[0m\u001b[0;34m(\u001b[0m\u001b[0mtestscan\u001b[0m\u001b[0;34m,\u001b[0m\u001b[0mlabelscan\u001b[0m\u001b[0;34m)\u001b[0m \u001b[0;31m# Step 3\u001b[0m\u001b[0;34m\u001b[0m\u001b[0;34m\u001b[0m\u001b[0m\n\u001b[0m\u001b[1;32m      6\u001b[0m         \u001b[0mtestscan\u001b[0m\u001b[0;34m.\u001b[0m\u001b[0msettestlabel\u001b[0m\u001b[0;34m(\u001b[0m\u001b[0mweight\u001b[0m\u001b[0;34m,\u001b[0m\u001b[0mindex\u001b[0m\u001b[0;34m=\u001b[0m\u001b[0mlabelscan\u001b[0m\u001b[0;34m.\u001b[0m\u001b[0mlabel\u001b[0m\u001b[0;34m)\u001b[0m\u001b[0;34m\u001b[0m\u001b[0;34m\u001b[0m\u001b[0m\n",
      "\u001b[0;32m<ipython-input-30-8ff7a39125d4>\u001b[0m in \u001b[0;36mkernel_function\u001b[0;34m(self, test, ref)\u001b[0m\n\u001b[1;32m     22\u001b[0m                 \u001b[0mlambda_\u001b[0m \u001b[0;34m=\u001b[0m \u001b[0mmean_test\u001b[0m\u001b[0;34m[\u001b[0m\u001b[0mi\u001b[0m\u001b[0;34m]\u001b[0m\u001b[0;34m-\u001b[0m\u001b[0mmean_ref\u001b[0m\u001b[0;34m[\u001b[0m\u001b[0mj\u001b[0m\u001b[0;34m]\u001b[0m\u001b[0;34m\u001b[0m\u001b[0;34m\u001b[0m\u001b[0m\n\u001b[1;32m     23\u001b[0m                 \u001b[0mexp_\u001b[0m \u001b[0;34m=\u001b[0m \u001b[0mnp\u001b[0m\u001b[0;34m.\u001b[0m\u001b[0mexp\u001b[0m\u001b[0;34m(\u001b[0m\u001b[0;34m(\u001b[0m\u001b[0;34m-\u001b[0m\u001b[0;36m.5\u001b[0m\u001b[0;34m)\u001b[0m\u001b[0;34m*\u001b[0m\u001b[0mlambda_\u001b[0m\u001b[0;34m*\u001b[0m\u001b[0msigma\u001b[0m\u001b[0;34m*\u001b[0m\u001b[0mlambda_\u001b[0m\u001b[0;34m.\u001b[0m\u001b[0mT\u001b[0m\u001b[0;34m)\u001b[0m\u001b[0;34m\u001b[0m\u001b[0;34m\u001b[0m\u001b[0m\n\u001b[0;32m---> 24\u001b[0;31m                 \u001b[0mGMS\u001b[0m \u001b[0;34m+=\u001b[0m \u001b[0;36m1\u001b[0m\u001b[0;34m/\u001b[0m\u001b[0;34m(\u001b[0m\u001b[0;34m(\u001b[0m\u001b[0;36m2\u001b[0m\u001b[0;34m*\u001b[0m\u001b[0mnp\u001b[0m\u001b[0;34m.\u001b[0m\u001b[0mpi\u001b[0m\u001b[0;34m**\u001b[0m\u001b[0;34m(\u001b[0m\u001b[0;36m3\u001b[0m\u001b[0;34m/\u001b[0m\u001b[0;36m2\u001b[0m\u001b[0;34m)\u001b[0m\u001b[0;34m)\u001b[0m\u001b[0;34m*\u001b[0m\u001b[0;34m(\u001b[0m\u001b[0mnp\u001b[0m\u001b[0;34m.\u001b[0m\u001b[0mlinalg\u001b[0m\u001b[0;34m.\u001b[0m\u001b[0mdet\u001b[0m\u001b[0;34m(\u001b[0m\u001b[0msigma\u001b[0m\u001b[0;34m)\u001b[0m\u001b[0;34m**\u001b[0m\u001b[0;34m(\u001b[0m\u001b[0;36m.5\u001b[0m\u001b[0;34m)\u001b[0m\u001b[0;34m)\u001b[0m\u001b[0;34m)\u001b[0m\u001b[0;34m@\u001b[0m\u001b[0mexp\u001b[0m\u001b[0;34m\u001b[0m\u001b[0;34m\u001b[0m\u001b[0m\n\u001b[0m\u001b[1;32m     25\u001b[0m         \u001b[0mGMS\u001b[0m \u001b[0;34m/=\u001b[0m \u001b[0;34m(\u001b[0m\u001b[0mI\u001b[0m\u001b[0;34m*\u001b[0m\u001b[0mJ\u001b[0m\u001b[0;34m)\u001b[0m\u001b[0;34m\u001b[0m\u001b[0;34m\u001b[0m\u001b[0m\n\u001b[1;32m     26\u001b[0m         \u001b[0;32mreturn\u001b[0m \u001b[0mGMS\u001b[0m\u001b[0;34m\u001b[0m\u001b[0;34m\u001b[0m\u001b[0m\n",
      "\u001b[0;32m<__array_function__ internals>\u001b[0m in \u001b[0;36mdet\u001b[0;34m(*args, **kwargs)\u001b[0m\n",
      "\u001b[0;32m~/anaconda3/lib/python3.7/site-packages/numpy/linalg/linalg.py\u001b[0m in \u001b[0;36mdet\u001b[0;34m(a)\u001b[0m\n\u001b[1;32m   2110\u001b[0m     \"\"\"\n\u001b[1;32m   2111\u001b[0m     \u001b[0ma\u001b[0m \u001b[0;34m=\u001b[0m \u001b[0masarray\u001b[0m\u001b[0;34m(\u001b[0m\u001b[0ma\u001b[0m\u001b[0;34m)\u001b[0m\u001b[0;34m\u001b[0m\u001b[0;34m\u001b[0m\u001b[0m\n\u001b[0;32m-> 2112\u001b[0;31m     \u001b[0m_assert_stacked_2d\u001b[0m\u001b[0;34m(\u001b[0m\u001b[0ma\u001b[0m\u001b[0;34m)\u001b[0m\u001b[0;34m\u001b[0m\u001b[0;34m\u001b[0m\u001b[0m\n\u001b[0m\u001b[1;32m   2113\u001b[0m     \u001b[0m_assert_stacked_square\u001b[0m\u001b[0;34m(\u001b[0m\u001b[0ma\u001b[0m\u001b[0;34m)\u001b[0m\u001b[0;34m\u001b[0m\u001b[0;34m\u001b[0m\u001b[0m\n\u001b[1;32m   2114\u001b[0m     \u001b[0mt\u001b[0m\u001b[0;34m,\u001b[0m \u001b[0mresult_t\u001b[0m \u001b[0;34m=\u001b[0m \u001b[0m_commonType\u001b[0m\u001b[0;34m(\u001b[0m\u001b[0ma\u001b[0m\u001b[0;34m)\u001b[0m\u001b[0;34m\u001b[0m\u001b[0;34m\u001b[0m\u001b[0m\n",
      "\u001b[0;32m~/anaconda3/lib/python3.7/site-packages/numpy/linalg/linalg.py\u001b[0m in \u001b[0;36m_assert_stacked_2d\u001b[0;34m(*arrays)\u001b[0m\n\u001b[1;32m    205\u001b[0m         \u001b[0;32mif\u001b[0m \u001b[0ma\u001b[0m\u001b[0;34m.\u001b[0m\u001b[0mndim\u001b[0m \u001b[0;34m<\u001b[0m \u001b[0;36m2\u001b[0m\u001b[0;34m:\u001b[0m\u001b[0;34m\u001b[0m\u001b[0;34m\u001b[0m\u001b[0m\n\u001b[1;32m    206\u001b[0m             raise LinAlgError('%d-dimensional array given. Array must be '\n\u001b[0;32m--> 207\u001b[0;31m                     'at least two-dimensional' % a.ndim)\n\u001b[0m\u001b[1;32m    208\u001b[0m \u001b[0;34m\u001b[0m\u001b[0m\n\u001b[1;32m    209\u001b[0m \u001b[0;32mdef\u001b[0m \u001b[0m_assert_stacked_square\u001b[0m\u001b[0;34m(\u001b[0m\u001b[0;34m*\u001b[0m\u001b[0marrays\u001b[0m\u001b[0;34m)\u001b[0m\u001b[0;34m:\u001b[0m\u001b[0;34m\u001b[0m\u001b[0;34m\u001b[0m\u001b[0m\n",
      "\u001b[0;31mLinAlgError\u001b[0m: 1-dimensional array given. Array must be at least two-dimensional"
     ]
    }
   ],
   "source": [
    "# Step 3\n",
    "observer = Observer()\n",
    "for testscan in testscans:\n",
    "    for labelscan in labeled_scans:\n",
    "        weight = observer.kernel_function(testscan,labelscan) # Step 3\n",
    "        testscan.settestlabel(weight,index=labelscan.label)"
   ]
  },
  {
   "cell_type": "code",
   "execution_count": 343,
   "metadata": {},
   "outputs": [
    {
     "name": "stdout",
     "output_type": "stream",
     "text": [
      "Classification Accuracy: 1.0\n"
     ]
    }
   ],
   "source": [
    "# Step 4\n",
    "testsetlength = setsize*m*m\n",
    "count = 0\n",
    "for testscan in testscans:\n",
    "    if np.any(np.argsort(testscan.testlabel)[:2] ==int(testscan.label)) :\n",
    "        count += 1\n",
    "    #print(\"Labels: {}, True: {}\\n\".format(np.argsort(testscan.testlabel)[:,:2],int(testscan.label)))\n",
    "    \n",
    "print(\"Classification Accuracy: {}\".format(count/testsetlength))"
   ]
  },
  {
   "cell_type": "code",
   "execution_count": null,
   "metadata": {},
   "outputs": [],
   "source": []
  },
  {
   "cell_type": "code",
   "execution_count": null,
   "metadata": {},
   "outputs": [],
   "source": []
  }
 ],
 "metadata": {
  "kernelspec": {
   "display_name": "Python 3",
   "language": "python",
   "name": "python3"
  },
  "language_info": {
   "codemirror_mode": {
    "name": "ipython",
    "version": 3
   },
   "file_extension": ".py",
   "mimetype": "text/x-python",
   "name": "python",
   "nbconvert_exporter": "python",
   "pygments_lexer": "ipython3",
   "version": "3.7.3"
  }
 },
 "nbformat": 4,
 "nbformat_minor": 2
}
