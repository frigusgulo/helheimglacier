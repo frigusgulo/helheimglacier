{
 "cells": [
  {
   "cell_type": "code",
   "execution_count": 1,
   "metadata": {},
   "outputs": [],
   "source": [
    "import numpy as np\n",
    "import laspy as lp\n",
    "import numpy as np\n",
    "import scipy\n",
    "from laspy.file import File\n",
    "from scipy.spatial.ckdtree import cKDTree as KDTree\n",
    "import time as time\n",
    "import scipy.stats\n",
    "from numpy.random import (normal,uniform)\n",
    "import matplotlib.cm as cm\n",
    "import itertools\n",
    "from matplotlib.patches import Circle\n",
    "from glob import glob\n",
    "from os.path import join\n",
    "import rasterio\n",
    "import os"
   ]
  },
  {
   "cell_type": "code",
   "execution_count": 7,
   "metadata": {},
   "outputs": [
    {
     "name": "stdout",
     "output_type": "stream",
     "text": [
      "['/home/dunbar/Research/helheim/data/2016_cpd_vels/160813_000159Vwgs84UTM24N.tif', '/home/dunbar/Research/helheim/data/2016_cpd_vels/160813_060204Vwgs84UTM24N.tif', '/home/dunbar/Research/helheim/data/2016_cpd_vels/160813_120203Vwgs84UTM24N.tif', '/home/dunbar/Research/helheim/data/2016_cpd_vels/160813_180202Vwgs84UTM24N.tif', '/home/dunbar/Research/helheim/data/2016_cpd_vels/160814_000159Vwgs84UTM24N.tif', '/home/dunbar/Research/helheim/data/2016_cpd_vels/160815_060202Vwgs84UTM24N.tif', '/home/dunbar/Research/helheim/data/2016_cpd_vels/160815_120209Vwgs84UTM24N.tif', '/home/dunbar/Research/helheim/data/2016_cpd_vels/160815_180203Vwgs84UTM24N.tif', '/home/dunbar/Research/helheim/data/2016_cpd_vels/160816_000203Vwgs84UTM24N.tif', '/home/dunbar/Research/helheim/data/2016_cpd_vels/160816_060204Vwgs84UTM24N.tif']\n"
     ]
    }
   ],
   "source": [
    "# Get velocities in correct dimension for validation\n",
    "velorasters = files = glob(join(\"/home/dunbar/Research/helheim/data/2016_cpd_vels/\",\"*.tif\"))\n",
    "velorasters = sorted(velorasters, key=lambda i: int(os.path.splitext(os.path.basename(i).split(\"V\")[0])[0]))"
   ]
  },
  {
   "cell_type": "code",
   "execution_count": 3,
   "metadata": {},
   "outputs": [
    {
     "name": "stdout",
     "output_type": "stream",
     "text": [
      "EPSG:32624\n",
      "BoundingBox(left=530823.7155051414, bottom=7356408.307319491, right=543472.4270472983, top=7364943.938689873)\n",
      "(1, 572, 847)\n"
     ]
    }
   ],
   "source": [
    "cpdvel = rasterio.open(velorasters[0])\n",
    "print(cpdvel.crs)\n",
    "print(cpdvel.bounds)\n",
    "print(cpdvel.read().shape)"
   ]
  },
  {
   "cell_type": "code",
   "execution_count": 4,
   "metadata": {},
   "outputs": [
    {
     "name": "stdout",
     "output_type": "stream",
     "text": [
      "Northdims: (7356408.307319491, 7364943.938689873, 572)\n",
      "Eastdims: (530823.7155051414, 543472.4270472983, 847)\n"
     ]
    }
   ],
   "source": [
    "eastdims = (cpdvel.bounds[0],cpdvel.bounds[2],cpdvel.read().shape[2])\n",
    "northdims = (cpdvel.bounds[1],cpdvel.bounds[3],cpdvel.read().shape[1])\n",
    "print(\"Northdims:\",northdims)\n",
    "print(\"Eastdims:\",eastdims)"
   ]
  },
  {
   "cell_type": "markdown",
   "metadata": {},
   "source": [
    "Implement a particle filter based motion estimation scheme between sequential scans"
   ]
  },
  {
   "cell_type": "code",
   "execution_count": 5,
   "metadata": {},
   "outputs": [],
   "source": [
    "class scan():\n",
    "    def __init__(self,filepath):\n",
    "        start = time.time()\n",
    "        self.name = filepath\n",
    "        self.file = File(filepath,mode=\"r\")\n",
    "        self.scale = self.file.header.scale[0]\n",
    "        self.offset = self.file.header.offset[0]\n",
    "        self.tree = KDTree(np.vstack([self.file.x, self.file.y, self.file.z]).transpose())\n",
    "        self.time = self.file.header.get_date()\n",
    "        end = time.time() - start\n",
    "        print(\"Time Elapsed: {} for {}\".format(end,self.name))\n",
    "\n",
    "    def NNN(self,point,k):\n",
    "        return self.tree.data[self.tree.query(point,k=k)[1]]\n",
    "    \n",
    "    def radialcluster(self,point,radius):\n",
    "        neighbor = self.tree.data[self.tree.query(point,k=1)[1]]\n",
    "        points = self.tree.data[self.tree.query_ball_point(neighbor,radius)]\n",
    "        return np.array(points)"
   ]
  },
  {
   "cell_type": "code",
   "execution_count": 6,
   "metadata": {},
   "outputs": [
    {
     "name": "stdout",
     "output_type": "stream",
     "text": [
      "Time Elapsed: 32.050257444381714 for /home/dunbar/Research/helheim/data/misc/lazfiles/160802_000217.laz\n",
      "Time Elapsed: 37.97313356399536 for /home/dunbar/Research/helheim/data/misc/lazfiles/160802_121019.laz\n",
      "Time Elapsed: 27.50774884223938 for /home/dunbar/Research/helheim/data/misc/lazfiles/160802_180221.laz\n",
      "Time Elapsed: 34.18105888366699 for /home/dunbar/Research/helheim/data/misc/lazfiles/160803_000219.laz\n",
      "Time Elapsed: 27.789908170700073 for /home/dunbar/Research/helheim/data/misc/lazfiles/160803_180210.laz\n",
      "Time Elapsed: 28.367279767990112 for /home/dunbar/Research/helheim/data/misc/lazfiles/160804_000215.laz\n",
      "Time Elapsed: 29.19965386390686 for /home/dunbar/Research/helheim/data/misc/lazfiles/160804_180228.laz\n",
      "Time Elapsed: 34.14712619781494 for /home/dunbar/Research/helheim/data/misc/lazfiles/160805_000216.laz\n",
      "Time Elapsed: 31.026548147201538 for /home/dunbar/Research/helheim/data/misc/lazfiles/160806_000245.laz\n",
      "Time Elapsed: 40.51389956474304 for /home/dunbar/Research/helheim/data/misc/lazfiles/160806_120216.laz\n"
     ]
    }
   ],
   "source": [
    "files = glob(join(\"/home/dunbar/Research/helheim/data/misc/lazfiles\",\"*.laz\"))\n",
    "files = sorted(files, key=lambda i: int(os.path.splitext(os.path.basename(i))[0].strip(\"_\") ))\n",
    "scanset = [scan(file) for file in files[:10]]"
   ]
  },
  {
   "cell_type": "code",
   "execution_count": 8,
   "metadata": {},
   "outputs": [],
   "source": [
    "class Particleset():  \n",
    "    def __init__(self,points=None,center=None,weight=None):\n",
    "        self.points = points\n",
    "        self.center = center\n",
    "        self.weight = weight\n",
    "        self.normalize()\n",
    "        self.gen_covariance()\n",
    "        \n",
    "    def normalize(self):\n",
    "        if self.center is not None:\n",
    "            self.points[:,:2] -= np.mean(self.points[:,:2]) # normalize by either center or mean (TBD)\n",
    "    \n",
    "    def set_weight(self,weight):\n",
    "        self.weight = weight\n",
    "\n",
    "    def gen_covariance(self):\n",
    "        if self.points is not None:\n",
    "            self.cov = np.cov(self.points.T)\n",
    "    "
   ]
  },
  {
   "cell_type": "code",
   "execution_count": 9,
   "metadata": {},
   "outputs": [],
   "source": [
    "class Observer(Particleset):\n",
    "    # should probably use kwargs here\n",
    "    \n",
    "    def __init__(self,initloc,std,initscan=None,N=5000):\n",
    "        self.initialize(initloc,std,N)\n",
    "        self.N = N\n",
    "        if initscan is not None:\n",
    "            self.refclusters = self.gen_clusters(initscan)\n",
    "        self.posteriors = [initloc]\n",
    "        \n",
    "    def initialize(self,initloc,std,N):\n",
    "        self.particles = np.empty((N, 5))\n",
    "        self.particles[:, 0] = normal(initloc[0],std[0],N) # x pos\n",
    "        self.particles[:, 1] = normal(initloc[1],std[1],N) # y pos\n",
    "        self.particles[:, 2] = normal(initloc[2],std[2],N) # elevation\n",
    "        self.particles[:,3] = 0 #weights\n",
    "        self.particles[:,4] = np.linspace(0,N,N).T # place holder\n",
    "    \n",
    "    def update(self):\n",
    "        self.particles[:,3] /= np.sum(self.particles[:,3])\n",
    "        cumsum = np.cumsum(self.particles[:,3])\n",
    "        cumsum[-1] = 1\n",
    "        indexes = np.searchsorted(cumsum,uniform(0,1,int(self.N))).astype(np.int)\n",
    "        for i in range(len(indexes)):\n",
    "            self.particles[i,:] = self.particles[indexes[i],:]\n",
    "        return indexes\n",
    "    \n",
    "    def evolve(self,dt):\n",
    "        mean = dt*np.array([1,.8,.6]) #m/day\n",
    "        var = dt*np.array([.3,.3,.2]) #m/day\n",
    "        update = np.zeros_like(self.particles)\n",
    "        update[:,0] = normal(mean[0],var[0],self.N) #dynamical model for dx/dt\n",
    "        update[:,1]  = normal(mean[1],var[1],self.N) #dynamical model for dy/dt\n",
    "        update[:,2]  = normal(mean[2],var[2],self.N) #dynamical model for dz/dt\n",
    "        self.particles += update\n",
    "        \n",
    "    def posterior(self):\n",
    "        mean = np.average(self.particles[:,:3],weights=self.particles[:,3],axis=0)\n",
    "        var = np.average((self.particles[:,:3]-mean)**2,weights=self.particles[:,3],axis=0)\n",
    "        return [mean, var]\n",
    "\n",
    "    def query_scan(self,scan,loc):\n",
    "        points = scan.NNN(point=loc,k=150)\n",
    "        return Particleset(points=points,center=loc)\n",
    "    \n",
    "    def gen_clusters(self,scan):\n",
    "        refclusters = []\n",
    "        for center in list(self.particles[:,:3]):\n",
    "            refclusters.append(self.query_scan(scan,center))\n",
    "        return refclusters\n",
    "            \n",
    "\n",
    "    def kernel_function(self,test,ref):\n",
    "        # Evaluate the liklihood of one KDE under another\n",
    "        # ** See https://iis.uibk.ac.at/public/papers/Xiong-2013-3DV.pdf [Section 3.3] For Details **\n",
    "        mean_test = test.points\n",
    "        cov_test = test.cov\n",
    "        mean_ref = ref.points\n",
    "        cov_ref = ref.cov\n",
    "        assert mean_test.shape == mean_ref.shape\n",
    "        gamma = mean_test - mean_ref\n",
    "        sigma = cov_test + cov_ref\n",
    "        A = 1/((2*np.pi**(3/2))*(np.linalg.det(sigma)**(.5)))\n",
    "        B = np.exp((-.5)*gamma@np.linalg.inv(sigma)@gamma.T)\n",
    "        C = 1/(np.max(mean_test.shape))\n",
    "        return (C**2)*np.sum(A*B)\n",
    "    \n",
    "    def compare_scans(self,compare,dt):\n",
    "        start = time.time()\n",
    " \n",
    "        self.evolve(dt)\n",
    "        test = self.gen_clusters(compare) # Produce a set of \"test\" locations for particles\n",
    "           \n",
    "        for i in range(self.N):\n",
    "            self.particles[i,3] = self.kernel_function(test[i],self.refclusters[i]) # weight \"Test locations\"\n",
    "        indexes = self.update()\n",
    "      \n",
    "        self.refclusters = np.array(test)[indexes] # resample the cluster set\n",
    "            \n",
    "        self.posteriors.append(self.posterior()) #record posterior estimate\n",
    "        end = time.time() - start\n",
    "        \n",
    "        \n",
    "    "
   ]
  },
  {
   "cell_type": "code",
   "execution_count": 10,
   "metadata": {},
   "outputs": [
    {
     "name": "stdout",
     "output_type": "stream",
     "text": [
      "Northdims: (7356408.307319491, 7364943.938689873, 572)\n",
      "Eastdims: (530823.7155051414, 543472.4270472983, 847)\n"
     ]
    }
   ],
   "source": [
    "posstd = np.array([.5,.5,1])\n",
    "initialscan = scanset[0]\n",
    "print(\"Northdims:\",northdims)\n",
    "print(\"Eastdims:\",eastdims)"
   ]
  },
  {
   "cell_type": "code",
   "execution_count": 14,
   "metadata": {},
   "outputs": [],
   "source": [
    "easting = np.linspace(eastdims[0],eastdims[1],int(eastdims[2]/100))\n",
    "northing = np.linspace(northdims[0],northdims[1],int(northdims[2]/100))\n",
    "grid = [np.array([x,y,1000]) for x in easting for y in northing]\n",
    "observergrid = [Observer(point,posstd,initialscan) for i,point in enumerate(grid)] # Step 1"
   ]
  },
  {
   "cell_type": "code",
   "execution_count": 15,
   "metadata": {},
   "outputs": [],
   "source": [
    "dxdt = []\n",
    "for i in range(1,len(scanset)):\n",
    "    dx = []\n",
    "    for observer in observergrid:\n",
    "        observer.compare_scans(scanset[i])\n",
    "        displace = np.linalg.norm(observer.posteriors[i-1][0]-observer.posteriors[i][0])\n",
    "        mapping = observer.posteriors[i][0].tolist()\n",
    "        mapping.append(displace)\n",
    "        dx.append(mapping)\n",
    "    dx = np.array(dx)\n",
    "    dxdt.append(dx)\n",
    "dxdt = np.array(dxdt)"
   ]
  },
  {
   "cell_type": "code",
   "execution_count": 21,
   "metadata": {},
   "outputs": [],
   "source": [
    "from scipy.interpolate import griddata\n",
    "easting = np.linspace(eastdims[0],eastdims[1],eastdims[2])\n",
    "northing = np.linspace(northdims[0],northdims[1],northdims[2])\n",
    "grideast,gridnorth = np.meshgrid(easting,northing)\n",
    "images = []\n",
    "for i in range(1,dxdt.shape[0]):\n",
    "    images.append(np.squeeze(griddata(points=dxdt[i,:,:2], values=dxdt[i,:,3][:,np.newaxis], xi=(grideast,gridnorth), method='nearest')))\n"
   ]
  },
  {
   "cell_type": "code",
   "execution_count": 22,
   "metadata": {},
   "outputs": [
    {
     "data": {
      "image/png": "[encoded data removed]",
      "text/plain": [
       "<Figure size 432x288 with 2 Axes>"
      ]
     },
     "metadata": {
      "needs_background": "light"
     },
     "output_type": "display_data"
    }
   ],
   "source": [
    "import matplotlib.pyplot as plt\n",
    "temp = images[1]\n",
    "#temp -= np.mean(temp)\n",
    "plt.imshow(temp)\n",
    "plt.colorbar()\n",
    "plt.show()"
   ]
  },
  {
   "cell_type": "code",
   "execution_count": 23,
   "metadata": {},
   "outputs": [
    {
     "ename": "RasterioIOError",
     "evalue": "/home/dunbar/Research/helheim/data/2016_cpd_vels/160814_000159Vwgs84UTM24N.tif: No such file or directory",
     "output_type": "error",
     "traceback": [
      "\u001b[0;31m--------------------------------------------\u001b[0m",
      "\u001b[0;31mCPLE_OpenFailedError\u001b[0mTraceback (most recent call last)",
      "\u001b[0;32mrasterio/_base.pyx\u001b[0m in \u001b[0;36mrasterio._base.DatasetBase.__init__\u001b[0;34m()\u001b[0m\n",
      "\u001b[0;32mrasterio/_shim.pyx\u001b[0m in \u001b[0;36mrasterio._shim.open_dataset\u001b[0;34m()\u001b[0m\n",
      "\u001b[0;32mrasterio/_err.pyx\u001b[0m in \u001b[0;36mrasterio._err.exc_wrap_pointer\u001b[0;34m()\u001b[0m\n",
      "\u001b[0;31mCPLE_OpenFailedError\u001b[0m: /home/dunbar/Research/helheim/data/2016_cpd_vels/160814_000159Vwgs84UTM24N.tif: No such file or directory",
      "\nDuring handling of the above exception, another exception occurred:\n",
      "\u001b[0;31mRasterioIOError\u001b[0mTraceback (most recent call last)",
      "\u001b[0;32m<ipython-input-23-0b6f46be369a>\u001b[0m in \u001b[0;36m<module>\u001b[0;34m\u001b[0m\n\u001b[0;32m----> 1\u001b[0;31m \u001b[0mvelplots\u001b[0m \u001b[0;34m=\u001b[0m \u001b[0;34m[\u001b[0m\u001b[0mnp\u001b[0m\u001b[0;34m.\u001b[0m\u001b[0msqueeze\u001b[0m\u001b[0;34m(\u001b[0m\u001b[0mrasterio\u001b[0m\u001b[0;34m.\u001b[0m\u001b[0mopen\u001b[0m\u001b[0;34m(\u001b[0m\u001b[0mraster\u001b[0m\u001b[0;34m)\u001b[0m\u001b[0;34m.\u001b[0m\u001b[0mread\u001b[0m\u001b[0;34m(\u001b[0m\u001b[0;34m)\u001b[0m\u001b[0;34m)\u001b[0m \u001b[0;32mfor\u001b[0m \u001b[0mraster\u001b[0m \u001b[0;32min\u001b[0m \u001b[0mvelorasters\u001b[0m\u001b[0;34m]\u001b[0m\u001b[0;34m\u001b[0m\u001b[0;34m\u001b[0m\u001b[0m\n\u001b[0m",
      "\u001b[0;32m<ipython-input-23-0b6f46be369a>\u001b[0m in \u001b[0;36m<listcomp>\u001b[0;34m(.0)\u001b[0m\n\u001b[0;32m----> 1\u001b[0;31m \u001b[0mvelplots\u001b[0m \u001b[0;34m=\u001b[0m \u001b[0;34m[\u001b[0m\u001b[0mnp\u001b[0m\u001b[0;34m.\u001b[0m\u001b[0msqueeze\u001b[0m\u001b[0;34m(\u001b[0m\u001b[0mrasterio\u001b[0m\u001b[0;34m.\u001b[0m\u001b[0mopen\u001b[0m\u001b[0;34m(\u001b[0m\u001b[0mraster\u001b[0m\u001b[0;34m)\u001b[0m\u001b[0;34m.\u001b[0m\u001b[0mread\u001b[0m\u001b[0;34m(\u001b[0m\u001b[0;34m)\u001b[0m\u001b[0;34m)\u001b[0m \u001b[0;32mfor\u001b[0m \u001b[0mraster\u001b[0m \u001b[0;32min\u001b[0m \u001b[0mvelorasters\u001b[0m\u001b[0;34m]\u001b[0m\u001b[0;34m\u001b[0m\u001b[0;34m\u001b[0m\u001b[0m\n\u001b[0m",
      "\u001b[0;32m~/anaconda3/lib/python3.7/site-packages/rasterio/env.py\u001b[0m in \u001b[0;36mwrapper\u001b[0;34m(*args, **kwds)\u001b[0m\n\u001b[1;32m    443\u001b[0m \u001b[0;34m\u001b[0m\u001b[0m\n\u001b[1;32m    444\u001b[0m         \u001b[0;32mwith\u001b[0m \u001b[0menv_ctor\u001b[0m\u001b[0;34m(\u001b[0m\u001b[0msession\u001b[0m\u001b[0;34m=\u001b[0m\u001b[0msession\u001b[0m\u001b[0;34m)\u001b[0m\u001b[0;34m:\u001b[0m\u001b[0;34m\u001b[0m\u001b[0;34m\u001b[0m\u001b[0m\n\u001b[0;32m--> 445\u001b[0;31m             \u001b[0;32mreturn\u001b[0m \u001b[0mf\u001b[0m\u001b[0;34m(\u001b[0m\u001b[0;34m*\u001b[0m\u001b[0margs\u001b[0m\u001b[0;34m,\u001b[0m \u001b[0;34m**\u001b[0m\u001b[0mkwds\u001b[0m\u001b[0;34m)\u001b[0m\u001b[0;34m\u001b[0m\u001b[0;34m\u001b[0m\u001b[0m\n\u001b[0m\u001b[1;32m    446\u001b[0m \u001b[0;34m\u001b[0m\u001b[0m\n\u001b[1;32m    447\u001b[0m     \u001b[0;32mreturn\u001b[0m \u001b[0mwrapper\u001b[0m\u001b[0;34m\u001b[0m\u001b[0;34m\u001b[0m\u001b[0m\n",
      "\u001b[0;32m~/anaconda3/lib/python3.7/site-packages/rasterio/__init__.py\u001b[0m in \u001b[0;36mopen\u001b[0;34m(fp, mode, driver, width, height, count, crs, transform, dtype, nodata, sharing, **kwargs)\u001b[0m\n\u001b[1;32m    217\u001b[0m         \u001b[0;31m# None.\u001b[0m\u001b[0;34m\u001b[0m\u001b[0;34m\u001b[0m\u001b[0;34m\u001b[0m\u001b[0m\n\u001b[1;32m    218\u001b[0m         \u001b[0;32mif\u001b[0m \u001b[0mmode\u001b[0m \u001b[0;34m==\u001b[0m \u001b[0;34m'r'\u001b[0m\u001b[0;34m:\u001b[0m\u001b[0;34m\u001b[0m\u001b[0;34m\u001b[0m\u001b[0m\n\u001b[0;32m--> 219\u001b[0;31m             \u001b[0ms\u001b[0m \u001b[0;34m=\u001b[0m \u001b[0mDatasetReader\u001b[0m\u001b[0;34m(\u001b[0m\u001b[0mpath\u001b[0m\u001b[0;34m,\u001b[0m \u001b[0mdriver\u001b[0m\u001b[0;34m=\u001b[0m\u001b[0mdriver\u001b[0m\u001b[0;34m,\u001b[0m \u001b[0msharing\u001b[0m\u001b[0;34m=\u001b[0m\u001b[0msharing\u001b[0m\u001b[0;34m,\u001b[0m \u001b[0;34m**\u001b[0m\u001b[0mkwargs\u001b[0m\u001b[0;34m)\u001b[0m\u001b[0;34m\u001b[0m\u001b[0;34m\u001b[0m\u001b[0m\n\u001b[0m\u001b[1;32m    220\u001b[0m         \u001b[0;32melif\u001b[0m \u001b[0mmode\u001b[0m \u001b[0;34m==\u001b[0m \u001b[0;34m'r+'\u001b[0m\u001b[0;34m:\u001b[0m\u001b[0;34m\u001b[0m\u001b[0;34m\u001b[0m\u001b[0m\n\u001b[1;32m    221\u001b[0m             \u001b[0ms\u001b[0m \u001b[0;34m=\u001b[0m \u001b[0mget_writer_for_path\u001b[0m\u001b[0;34m(\u001b[0m\u001b[0mpath\u001b[0m\u001b[0;34m)\u001b[0m\u001b[0;34m(\u001b[0m\u001b[0mpath\u001b[0m\u001b[0;34m,\u001b[0m \u001b[0mmode\u001b[0m\u001b[0;34m,\u001b[0m \u001b[0mdriver\u001b[0m\u001b[0;34m=\u001b[0m\u001b[0mdriver\u001b[0m\u001b[0;34m,\u001b[0m \u001b[0msharing\u001b[0m\u001b[0;34m=\u001b[0m\u001b[0msharing\u001b[0m\u001b[0;34m,\u001b[0m \u001b[0;34m**\u001b[0m\u001b[0mkwargs\u001b[0m\u001b[0;34m)\u001b[0m\u001b[0;34m\u001b[0m\u001b[0;34m\u001b[0m\u001b[0m\n",
      "\u001b[0;32mrasterio/_base.pyx\u001b[0m in \u001b[0;36mrasterio._base.DatasetBase.__init__\u001b[0;34m()\u001b[0m\n",
      "\u001b[0;31mRasterioIOError\u001b[0m: /home/dunbar/Research/helheim/data/2016_cpd_vels/160814_000159Vwgs84UTM24N.tif: No such file or directory"
     ]
    }
   ],
   "source": [
    "velplots = [np.squeeze(rasterio.open(raster).read()) for raster in velorasters]"
   ]
  },
  {
   "cell_type": "code",
   "execution_count": null,
   "metadata": {},
   "outputs": [],
   "source": []
  }
 ],
 "metadata": {
  "kernelspec": {
   "display_name": "Python 3",
   "language": "python",
   "name": "python3"
  },
  "language_info": {
   "codemirror_mode": {
    "name": "ipython",
    "version": 3
   },
   "file_extension": ".py",
   "mimetype": "text/x-python",
   "name": "python",
   "nbconvert_exporter": "python",
   "pygments_lexer": "ipython3",
   "version": "3.7.3"
  }
 },
 "nbformat": 4,
 "nbformat_minor": 2
}
